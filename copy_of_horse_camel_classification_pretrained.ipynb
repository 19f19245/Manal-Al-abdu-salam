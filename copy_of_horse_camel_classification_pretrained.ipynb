{
  "cells": [
    {
      "cell_type": "markdown",
      "metadata": {
        "id": "view-in-github",
        "colab_type": "text"
      },
      "source": [
        "<a href=\"https://colab.research.google.com/github/19f19245/Manal-Al-abdu-salam/blob/19f19245-patch-2/copy_of_horse_camel_classification_pretrained.ipynb\" target=\"_parent\"><img src=\"https://colab.research.google.com/assets/colab-badge.svg\" alt=\"Open In Colab\"/></a>"
      ]
    },
    {
      "cell_type": "code",
      "execution_count": 34,
      "metadata": {
        "id": "XwS3JKt-U1CE"
      },
      "outputs": [],
      "source": [
        "from tensorflow import keras\n",
        "from keras import Sequential\n",
        "from keras.layers import Dense,Conv2D,MaxPooling2D,Flatten\n",
        "import tensorflow as tf\n",
        "import numpy as np\n",
        "import matplotlib.pyplot as plt\n",
        "from tensorflow.keras.preprocessing.image import ImageDataGenerator\n",
        "from tensorflow import keras\n",
        "from keras import Sequential\n",
        "from keras.layers import Dense,Conv2D,MaxPooling2D,Flatten,BatchNormalization,UpSampling2D, Dropout\n"
      ]
    },
    {
      "cell_type": "code",
      "source": [
        "#My dataset is available in googledrive; so I am accessing my drive from colab\n",
        "from google.colab import drive\n",
        "drive.mount('/content/drive', force_remount=True)\n",
        "#Once this is executed, you will see your drive appearing on the left hand side"
      ],
      "metadata": {
        "id": "b08gNGG0GQEv",
        "outputId": "19d7ae37-7168-4511-96fa-e3536a85ceec",
        "colab": {
          "base_uri": "https://localhost:8080/"
        }
      },
      "execution_count": 28,
      "outputs": [
        {
          "output_type": "stream",
          "name": "stdout",
          "text": [
            "Mounted at /content/drive\n"
          ]
        }
      ]
    },
    {
      "cell_type": "code",
      "source": [
        "from google.colab import drive\n",
        "drive.mount('/content/drive')"
      ],
      "metadata": {
        "colab": {
          "base_uri": "https://localhost:8080/"
        },
        "id": "dgufMd1I9NWt",
        "outputId": "041790f4-ac8e-4426-8281-e5f3552b8822"
      },
      "execution_count": 29,
      "outputs": [
        {
          "output_type": "stream",
          "name": "stdout",
          "text": [
            "Drive already mounted at /content/drive; to attempt to forcibly remount, call drive.mount(\"/content/drive\", force_remount=True).\n"
          ]
        }
      ]
    },
    {
      "cell_type": "code",
      "execution_count": 30,
      "metadata": {
        "id": "SMPHESYVVnzp"
      },
      "outputs": [],
      "source": [
        "# Define paths to the dataset\n",
        "train_dir = '/content/drive/MyDrive/train'  # Update with your actual path\n",
        "test_dir = '/content/drive/MyDrive/test'    # Update with your actual path"
      ]
    },
    {
      "cell_type": "code",
      "execution_count": 31,
      "metadata": {
        "colab": {
          "base_uri": "https://localhost:8080/"
        },
        "id": "wwfZiLtU6Ruq",
        "outputId": "50afabee-e8ba-466e-e7c4-3c23d000c906"
      },
      "outputs": [
        {
          "output_type": "stream",
          "name": "stdout",
          "text": [
            "180\n",
            "180\n",
            "20\n",
            "20\n"
          ]
        }
      ],
      "source": [
        "import os\n",
        "print(len(os.listdir('/content/drive/MyDrive/train/camel')))\n",
        "print(len(os.listdir('/content/drive/MyDrive/train/horse')))\n",
        "print(len(os.listdir('/content/drive/MyDrive/test/camel')))\n",
        "print(len(os.listdir('/content/drive/MyDrive/test/horse')))"
      ]
    },
    {
      "cell_type": "code",
      "execution_count": 33,
      "metadata": {
        "colab": {
          "base_uri": "https://localhost:8080/"
        },
        "id": "kf8li3JNUJR1",
        "outputId": "7169b3ed-6628-48a6-f384-f1397a096787"
      },
      "outputs": [
        {
          "output_type": "stream",
          "name": "stdout",
          "text": [
            "Found 288 images belonging to 2 classes.\n",
            "Found 72 images belonging to 2 classes.\n"
          ]
        }
      ],
      "source": [
        "\n",
        "# Create ImageDataGenerator for training set\n",
        "train_datagen = ImageDataGenerator(\n",
        "    rescale=1./255,\n",
        "    validation_split=0.2  # Split 20% of the images for validation\n",
        ")\n",
        "\n",
        "# Load and prepare training data\n",
        "train_data = train_datagen.flow_from_directory(\n",
        "    train_dir,\n",
        "    target_size=(256,256),\n",
        "    batch_size=32,\n",
        "    class_mode='binary',  # 'binary' for binary classification (cats vs. dogs)\n",
        "    subset='training'  # Specify 'training' for the training set\n",
        ")\n",
        "\n",
        "# Create ImageDataGenerator for validation set\n",
        "validation_datagen = ImageDataGenerator(\n",
        "    rescale=1./255,\n",
        "    validation_split=0.2  # Note: Using the same validation split as in the training set\n",
        ")\n",
        "\n",
        "# Load and prepare validation data\n",
        "validation_data = validation_datagen.flow_from_directory(\n",
        "    train_dir,\n",
        "    target_size=(256,256),\n",
        "    batch_size=32,\n",
        "    class_mode='binary',\n",
        "    subset='validation'  # Specify 'validation' for the validation set\n",
        ")"
      ]
    },
    {
      "cell_type": "code",
      "source": [
        "# create CNN model\n",
        "\n",
        "model = Sequential()\n",
        "\n",
        "model.add(Conv2D(32,kernel_size=(3,3),padding='valid',activation='relu',input_shape=(256,256,3)))  # 32 filters\n",
        "#model.add(BatchNormalization())  # added to reduce overfitting\n",
        "model.add(MaxPooling2D(pool_size=(2,2),strides=2,padding='valid'))\n",
        "\n",
        "model.add(Conv2D(64,kernel_size=(3,3),padding='valid',activation='relu'))\n",
        "#model.add(BatchNormalization())  # added to reduce overfitting\n",
        "model.add(MaxPooling2D(pool_size=(2,2),strides=2,padding='valid'))\n",
        "\n",
        "model.add(Conv2D(128,kernel_size=(3,3),padding='valid',activation='relu'))\n",
        "#model.add(BatchNormalization())  # added to reduce overfitting\n",
        "model.add(MaxPooling2D(pool_size=(2,2),strides=2,padding='valid'))\n",
        "\n",
        "model.add(Flatten())\n",
        "\n",
        "model.add(Dense(128,activation='relu')) #feature reduction\n",
        "#model.add(Dropout(0.1))  # added to reduce overfitting\n",
        "model.add(Dense(64,activation='relu'))\n",
        "#model.add(Dropout(0.1))  # added to reduce overfitting\n",
        "model.add(Dense(1,activation='sigmoid'))  #output layer"
      ],
      "metadata": {
        "id": "zPhE5H3oH6zE"
      },
      "execution_count": 35,
      "outputs": []
    },
    {
      "cell_type": "code",
      "source": [
        "from keras.optimizers import Adam\n",
        "model.compile(optimizer=Adam(learning_rate=0.001),loss='binary_crossentropy',metrics=['accuracy']) #binary_crossentropy - binary classification"
      ],
      "metadata": {
        "id": "AB4GI26_IA3d"
      },
      "execution_count": 36,
      "outputs": []
    },
    {
      "cell_type": "code",
      "source": [
        "history = model.fit(train_data, epochs=30, validation_data=validation_data)"
      ],
      "metadata": {
        "id": "XoeA5d2lIHhl",
        "outputId": "9fdc0196-c53b-404b-c36f-39309146159e",
        "colab": {
          "base_uri": "https://localhost:8080/"
        }
      },
      "execution_count": 37,
      "outputs": [
        {
          "output_type": "stream",
          "name": "stdout",
          "text": [
            "Epoch 1/30\n",
            "9/9 [==============================] - 69s 7s/step - loss: 1.2097 - accuracy: 0.5243 - val_loss: 0.6946 - val_accuracy: 0.5000\n",
            "Epoch 2/30\n",
            "9/9 [==============================] - 51s 6s/step - loss: 0.6811 - accuracy: 0.5625 - val_loss: 0.6420 - val_accuracy: 0.7083\n",
            "Epoch 3/30\n",
            "9/9 [==============================] - 57s 6s/step - loss: 0.6261 - accuracy: 0.6806 - val_loss: 0.6085 - val_accuracy: 0.6111\n",
            "Epoch 4/30\n",
            "9/9 [==============================] - 49s 5s/step - loss: 0.5286 - accuracy: 0.7465 - val_loss: 0.6525 - val_accuracy: 0.6806\n",
            "Epoch 5/30\n",
            "9/9 [==============================] - 51s 6s/step - loss: 0.4867 - accuracy: 0.7743 - val_loss: 0.6409 - val_accuracy: 0.5833\n",
            "Epoch 6/30\n",
            "9/9 [==============================] - 53s 6s/step - loss: 0.4204 - accuracy: 0.8229 - val_loss: 0.6568 - val_accuracy: 0.6250\n",
            "Epoch 7/30\n",
            "9/9 [==============================] - 52s 6s/step - loss: 0.3680 - accuracy: 0.8438 - val_loss: 0.6206 - val_accuracy: 0.6111\n",
            "Epoch 8/30\n",
            "9/9 [==============================] - 50s 6s/step - loss: 0.2916 - accuracy: 0.9132 - val_loss: 0.6752 - val_accuracy: 0.6528\n",
            "Epoch 9/30\n",
            "9/9 [==============================] - 50s 6s/step - loss: 0.1979 - accuracy: 0.9306 - val_loss: 0.9090 - val_accuracy: 0.6806\n",
            "Epoch 10/30\n",
            "9/9 [==============================] - 49s 6s/step - loss: 0.1473 - accuracy: 0.9444 - val_loss: 0.8778 - val_accuracy: 0.6111\n",
            "Epoch 11/30\n",
            "9/9 [==============================] - 51s 6s/step - loss: 0.0907 - accuracy: 0.9757 - val_loss: 1.4738 - val_accuracy: 0.5972\n",
            "Epoch 12/30\n",
            "9/9 [==============================] - 49s 5s/step - loss: 0.0767 - accuracy: 0.9792 - val_loss: 1.2886 - val_accuracy: 0.5556\n",
            "Epoch 13/30\n",
            "9/9 [==============================] - 53s 6s/step - loss: 0.0358 - accuracy: 0.9965 - val_loss: 1.7055 - val_accuracy: 0.5833\n",
            "Epoch 14/30\n",
            "9/9 [==============================] - 51s 6s/step - loss: 0.0226 - accuracy: 0.9965 - val_loss: 2.0609 - val_accuracy: 0.5833\n",
            "Epoch 15/30\n",
            "9/9 [==============================] - 51s 6s/step - loss: 0.0085 - accuracy: 1.0000 - val_loss: 2.3021 - val_accuracy: 0.6111\n",
            "Epoch 16/30\n",
            "9/9 [==============================] - 50s 6s/step - loss: 0.0063 - accuracy: 1.0000 - val_loss: 2.4659 - val_accuracy: 0.5833\n",
            "Epoch 17/30\n",
            "9/9 [==============================] - 49s 6s/step - loss: 0.0032 - accuracy: 1.0000 - val_loss: 2.5180 - val_accuracy: 0.6667\n",
            "Epoch 18/30\n",
            "9/9 [==============================] - 49s 6s/step - loss: 0.0026 - accuracy: 1.0000 - val_loss: 2.4446 - val_accuracy: 0.5972\n",
            "Epoch 19/30\n",
            "9/9 [==============================] - 49s 6s/step - loss: 0.0191 - accuracy: 0.9931 - val_loss: 2.1637 - val_accuracy: 0.6528\n",
            "Epoch 20/30\n",
            "9/9 [==============================] - 49s 6s/step - loss: 0.0596 - accuracy: 0.9861 - val_loss: 1.5748 - val_accuracy: 0.6389\n",
            "Epoch 21/30\n",
            "9/9 [==============================] - 50s 5s/step - loss: 0.0576 - accuracy: 0.9826 - val_loss: 1.5801 - val_accuracy: 0.6667\n",
            "Epoch 22/30\n",
            "9/9 [==============================] - 49s 6s/step - loss: 0.0234 - accuracy: 0.9965 - val_loss: 1.7159 - val_accuracy: 0.6111\n",
            "Epoch 23/30\n",
            "9/9 [==============================] - 52s 6s/step - loss: 0.0093 - accuracy: 1.0000 - val_loss: 2.1898 - val_accuracy: 0.6111\n",
            "Epoch 24/30\n",
            "9/9 [==============================] - 52s 6s/step - loss: 0.0092 - accuracy: 0.9965 - val_loss: 2.2336 - val_accuracy: 0.6250\n",
            "Epoch 25/30\n",
            "9/9 [==============================] - 50s 6s/step - loss: 0.0085 - accuracy: 0.9965 - val_loss: 2.2120 - val_accuracy: 0.6111\n",
            "Epoch 26/30\n",
            "9/9 [==============================] - 49s 6s/step - loss: 0.0059 - accuracy: 1.0000 - val_loss: 2.2104 - val_accuracy: 0.6389\n",
            "Epoch 27/30\n",
            "9/9 [==============================] - 49s 6s/step - loss: 0.0015 - accuracy: 1.0000 - val_loss: 2.2465 - val_accuracy: 0.5694\n",
            "Epoch 28/30\n",
            "9/9 [==============================] - 49s 6s/step - loss: 9.9144e-04 - accuracy: 1.0000 - val_loss: 2.3846 - val_accuracy: 0.5833\n",
            "Epoch 29/30\n",
            "9/9 [==============================] - 51s 6s/step - loss: 5.4636e-04 - accuracy: 1.0000 - val_loss: 2.4399 - val_accuracy: 0.5833\n",
            "Epoch 30/30\n",
            "9/9 [==============================] - 49s 6s/step - loss: 3.1508e-04 - accuracy: 1.0000 - val_loss: 2.5023 - val_accuracy: 0.5694\n"
          ]
        }
      ]
    },
    {
      "cell_type": "code",
      "source": [
        "plt.plot(history.history['accuracy'],color='red',label='train')\n",
        "plt.plot(history.history['val_accuracy'],color='blue',label='validation')\n",
        "plt.legend()\n",
        "plt.show()"
      ],
      "metadata": {
        "id": "L6Qs-HGYILXk",
        "outputId": "2b09449c-687f-448d-c6b2-bb53e34903b5",
        "colab": {
          "base_uri": "https://localhost:8080/",
          "height": 430
        }
      },
      "execution_count": 38,
      "outputs": [
        {
          "output_type": "display_data",
          "data": {
            "text/plain": [
              "<Figure size 640x480 with 1 Axes>"
            ],
            "image/png": "[encoded data removed]"
          },
          "metadata": {}
        }
      ]
    },
    {
      "cell_type": "code",
      "source": [
        "plt.plot(history.history['loss'],color='red',label='train')\n",
        "plt.plot(history.history['val_loss'],color='blue',label='validation')\n",
        "plt.legend()\n",
        "plt.show()"
      ],
      "metadata": {
        "id": "6RM2MbL_IR-8",
        "outputId": "cee74c8f-bc01-4b1a-92d7-c8dbbd17d01b",
        "colab": {
          "base_uri": "https://localhost:8080/",
          "height": 430
        }
      },
      "execution_count": 39,
      "outputs": [
        {
          "output_type": "display_data",
          "data": {
            "text/plain": [
              "<Figure size 640x480 with 1 Axes>"
            ],
            "image/png": "[encoded data removed]"
          },
          "metadata": {}
        }
      ]
    },
    {
      "cell_type": "code",
      "source": [
        "\n",
        "\n",
        "resnet_model = Sequential()    #ResNet50 is a pre-trained model\n",
        "pretrained_model = tf.keras.applications.ResNet50(include_top = False, #because i have my own image of a diff dimension\n",
        "                                                input_shape = (256,256,3),\n",
        "                                                pooling = 'max', classes = 2,\n",
        "                                                weights = 'imagenet')\n",
        "for layer in pretrained_model.layers:\n",
        "    layer.trainable = False  #all layers in the Resnet50 is not trainable; keep those weights; I am going to add my own i/p and other layers\n",
        "\n",
        "resnet_model.add(pretrained_model)\n",
        "resnet_model.add(Flatten())\n",
        "resnet_model.add(Dense(512, activation = 'relu'))\n",
        "resnet_model.add(Dense(1, activation = 'sigmoid'))"
      ],
      "metadata": {
        "id": "ja7Bv3UkSlKz"
      },
      "execution_count": 40,
      "outputs": []
    },
    {
      "cell_type": "code",
      "source": [
        "resnet_model.summary()"
      ],
      "metadata": {
        "colab": {
          "base_uri": "https://localhost:8080/"
        },
        "id": "dDZwlEw9VSVh",
        "outputId": "785f8e81-9974-4b08-a576-b04be3ece7d3"
      },
      "execution_count": 41,
      "outputs": [
        {
          "output_type": "stream",
          "name": "stdout",
          "text": [
            "Model: \"sequential_4\"\n",
            "_________________________________________________________________\n",
            " Layer (type)                Output Shape              Param #   \n",
            "=================================================================\n",
            " resnet50 (Functional)       (None, 2048)              23587712  \n",
            "                                                                 \n",
            " flatten_4 (Flatten)         (None, 2048)              0         \n",
            "                                                                 \n",
            " dense_10 (Dense)            (None, 512)               1049088   \n",
            "                                                                 \n",
            " dense_11 (Dense)            (None, 1)                 513       \n",
            "                                                                 \n",
            "=================================================================\n",
            "Total params: 24,637,313\n",
            "Trainable params: 1,049,601\n",
            "Non-trainable params: 23,587,712\n",
            "_________________________________________________________________\n"
          ]
        }
      ]
    },
    {
      "cell_type": "code",
      "execution_count": 44,
      "metadata": {
        "id": "glicW8_5vTqd",
        "colab": {
          "base_uri": "https://localhost:8080/"
        },
        "outputId": "2bf043b0-c208-4702-94b0-bcc4c9c5a83e"
      },
      "outputs": [
        {
          "output_type": "stream",
          "name": "stdout",
          "text": [
            "2/2 [==============================] - 14s 2s/step\n",
            "[[0.99966484]\n",
            " [0.99974424]\n",
            " [0.9998509 ]\n",
            " [0.99956906]\n",
            " [0.99964744]\n",
            " [0.99962705]\n",
            " [0.9997784 ]\n",
            " [0.9996184 ]\n",
            " [0.9997196 ]\n",
            " [0.9996668 ]\n",
            " [0.99973327]\n",
            " [0.999603  ]\n",
            " [0.99977356]\n",
            " [0.99967694]\n",
            " [0.9995745 ]\n",
            " [0.9998152 ]\n",
            " [0.99982613]\n",
            " [0.999713  ]\n",
            " [0.99972117]\n",
            " [0.9996679 ]\n",
            " [0.9997082 ]\n",
            " [0.9998217 ]\n",
            " [0.9994152 ]\n",
            " [0.99976635]\n",
            " [0.9998116 ]\n",
            " [0.9996955 ]\n",
            " [0.99983305]\n",
            " [0.9996656 ]\n",
            " [0.99944854]\n",
            " [0.9996967 ]\n",
            " [0.9998946 ]\n",
            " [0.9998907 ]\n",
            " [0.9999472 ]\n",
            " [0.99984413]\n",
            " [0.9997612 ]\n",
            " [0.99971527]\n",
            " [0.99981934]\n",
            " [0.9996787 ]\n",
            " [0.9995755 ]\n",
            " [0.99942446]]\n"
          ]
        }
      ],
      "source": [
        "#predict the test data\n",
        "predictions = resnet_model.predict(test_data)\n",
        "print(predictions)"
      ]
    },
    {
      "cell_type": "code",
      "execution_count": 45,
      "metadata": {
        "id": "r7XjnjcNyMbv",
        "colab": {
          "base_uri": "https://localhost:8080/"
        },
        "outputId": "a92517e4-571c-47e6-ee5d-3a00c993af47"
      },
      "outputs": [
        {
          "output_type": "execute_result",
          "data": {
            "text/plain": [
              "40"
            ]
          },
          "metadata": {},
          "execution_count": 45
        }
      ],
      "source": [
        "len(predictions)"
      ]
    },
    {
      "cell_type": "code",
      "execution_count": 46,
      "metadata": {
        "id": "oqqBXpuhyd6x",
        "colab": {
          "base_uri": "https://localhost:8080/"
        },
        "outputId": "ed60d5f4-44de-40e3-9ca0-3c92778f0182"
      },
      "outputs": [
        {
          "output_type": "stream",
          "name": "stdout",
          "text": [
            "Confusion Matrix:\n",
            "[[ 0 20]\n",
            " [ 0 20]]\n",
            "Classification Report:\n",
            "              precision    recall  f1-score   support\n",
            "\n",
            "           0       0.00      0.00      0.00        20\n",
            "           1       0.50      1.00      0.67        20\n",
            "\n",
            "    accuracy                           0.50        40\n",
            "   macro avg       0.25      0.50      0.33        40\n",
            "weighted avg       0.25      0.50      0.33        40\n",
            "\n"
          ]
        },
        {
          "output_type": "stream",
          "name": "stderr",
          "text": [
            "/usr/local/lib/python3.10/dist-packages/sklearn/metrics/_classification.py:1344: UndefinedMetricWarning: Precision and F-score are ill-defined and being set to 0.0 in labels with no predicted samples. Use `zero_division` parameter to control this behavior.\n",
            "  _warn_prf(average, modifier, msg_start, len(result))\n",
            "/usr/local/lib/python3.10/dist-packages/sklearn/metrics/_classification.py:1344: UndefinedMetricWarning: Precision and F-score are ill-defined and being set to 0.0 in labels with no predicted samples. Use `zero_division` parameter to control this behavior.\n",
            "  _warn_prf(average, modifier, msg_start, len(result))\n",
            "/usr/local/lib/python3.10/dist-packages/sklearn/metrics/_classification.py:1344: UndefinedMetricWarning: Precision and F-score are ill-defined and being set to 0.0 in labels with no predicted samples. Use `zero_division` parameter to control this behavior.\n",
            "  _warn_prf(average, modifier, msg_start, len(result))\n"
          ]
        }
      ],
      "source": [
        "from sklearn.metrics import confusion_matrix, classification_report\n",
        "\n",
        "# Assuming you have ground truth labels (true_labels) and predicted labels (predictions)\n",
        "true_labels = test_data.classes\n",
        "predicted_labels = (predictions > 0.5).astype(int)  # Adjust the threshold as needed\n",
        "\n",
        "# Calculate confusion matrix\n",
        "cm = confusion_matrix(true_labels, predicted_labels)\n",
        "\n",
        "# Print confusion matrix\n",
        "print(\"Confusion Matrix:\")\n",
        "print(cm)\n",
        "\n",
        "# Print classification report\n",
        "print(\"Classification Report:\")\n",
        "print(classification_report(true_labels, predicted_labels))"
      ]
    }
  ],
  "metadata": {
    "accelerator": "TPU",
    "colab": {
      "provenance": [],
      "toc_visible": true,
      "include_colab_link": true
    },
    "kernelspec": {
      "display_name": "Python 3",
      "name": "python3"
    },
    "language_info": {
      "name": "python"
    }
  },
  "nbformat": 4,
  "nbformat_minor": 0
}